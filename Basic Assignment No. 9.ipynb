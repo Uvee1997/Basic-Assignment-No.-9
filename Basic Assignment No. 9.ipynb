{
 "cells": [
  {
   "cell_type": "markdown",
   "id": "3ee8a301",
   "metadata": {},
   "source": [
    "1) To what does relative path refers to ?\n",
    "\n",
    ":- Location that is relative to current directory."
   ]
  },
  {
   "cell_type": "markdown",
   "id": "b140268a",
   "metadata": {},
   "source": [
    "2) What does an absolute path start with your operating system ?\n",
    "\n",
    ":- Absolute path refers to complete details needed to locate a file or folder starting from root element & \n",
    "   ending with other subdirectories."
   ]
  },
  {
   "cell_type": "markdown",
   "id": "f9852dfb",
   "metadata": {},
   "source": [
    "3) What do the functions os.getcwd() and os.chdir() do ?\n",
    "\n",
    ":- os.getcwd() = CWD stands for current working directories that allows you to see what your current working directory is\n",
    "   os.chdir() = Short for CHange Directory (Path-to-dir) this function allows you to set current working directory to a                     path of your choice."
   ]
  },
  {
   "cell_type": "markdown",
   "id": "b41133d7",
   "metadata": {},
   "source": [
    "4) What are the . and .. folders ?\n",
    "\n",
    ":- '.' - current directory\n",
    "    '..' -  used to navigate up the hierarchy of the file system"
   ]
  },
  {
   "cell_type": "markdown",
   "id": "e96ebe53",
   "metadata": {},
   "source": [
    "5) In C:\\bacon\\eggs\\spam.txt, which part is the dir name, and which part is the base name ?\n",
    "    \n",
    ":- C:\\bacon\\eggs - dir name "
   ]
  },
  {
   "cell_type": "markdown",
   "id": "972c1ad8",
   "metadata": {},
   "source": [
    "6) What are the three “mode” arguments that can be passed to the open() function ?\n",
    "\n",
    ":- r = to open the file in read mode only\n",
    "   r+ = to open the file in read & write mode\n",
    "   rb = Opens the file as read-only in binary format and starts reading from the beginning of the file"
   ]
  },
  {
   "cell_type": "markdown",
   "id": "52e2c868",
   "metadata": {},
   "source": [
    "7) What happens if an existing file is opened in write mode ?\n",
    "\n",
    ":- its contents are discarded and the file is treated as a new empty file"
   ]
  },
  {
   "cell_type": "markdown",
   "id": "790f1394",
   "metadata": {},
   "source": [
    "8) How do you tell the difference between read() and readlines() ?\n",
    "\n",
    ":- read() is used to read single character from standard output device, While readlines() is used read line or string\n",
    "   from standard output device"
   ]
  },
  {
   "cell_type": "markdown",
   "id": "cf2350fd",
   "metadata": {},
   "source": [
    "9) What data structure does a shelf value resemble ?\n",
    "\n",
    ":- Dictionary value {it contains key() & values()}"
   ]
  }
 ],
 "metadata": {
  "kernelspec": {
   "display_name": "Python 3 (ipykernel)",
   "language": "python",
   "name": "python3"
  },
  "language_info": {
   "codemirror_mode": {
    "name": "ipython",
    "version": 3
   },
   "file_extension": ".py",
   "mimetype": "text/x-python",
   "name": "python",
   "nbconvert_exporter": "python",
   "pygments_lexer": "ipython3",
   "version": "3.9.7"
  }
 },
 "nbformat": 4,
 "nbformat_minor": 5
}
